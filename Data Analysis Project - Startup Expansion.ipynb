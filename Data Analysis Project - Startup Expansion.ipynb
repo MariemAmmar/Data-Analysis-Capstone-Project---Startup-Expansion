{
 "cells": [
  {
   "cell_type": "markdown",
   "id": "9041d085",
   "metadata": {
    "id": "9041d085"
   },
   "source": [
    "# DATA ANALYSIS"
   ]
  },
  {
   "cell_type": "markdown",
   "id": "edce6214",
   "metadata": {
    "id": "edce6214"
   },
   "source": [
    "## Importing Libraries (Toolkit)"
   ]
  },
  {
   "cell_type": "code",
   "execution_count": 1,
   "id": "aaf027c6",
   "metadata": {
    "id": "aaf027c6"
   },
   "outputs": [
    {
     "name": "stderr",
     "output_type": "stream",
     "text": [
      "c:\\users\\asus\\appdata\\local\\programs\\python\\python38\\lib\\site-packages\\scipy\\__init__.py:146: UserWarning: A NumPy version >=1.16.5 and <1.23.0 is required for this version of SciPy (detected version 1.23.1\n",
      "  warnings.warn(f\"A NumPy version >={np_minversion} and <{np_maxversion}\"\n"
     ]
    }
   ],
   "source": [
    "import numpy as np\n",
    "import pandas as pd\n",
    "import matplotlib.pyplot as plt\n",
    "import seaborn as sns"
   ]
  },
  {
   "cell_type": "markdown",
   "id": "f36ebaf9",
   "metadata": {
    "id": "f36ebaf9"
   },
   "source": [
    "## Importing & Inspecting Data"
   ]
  },
  {
   "cell_type": "code",
   "execution_count": 4,
   "id": "8c4e388d",
   "metadata": {
    "id": "8c4e388d",
    "outputId": "ec29f707-1d74-4f92-c40d-00a0205ba4e9"
   },
   "outputs": [
    {
     "data": {
      "text/html": [
       "<div>\n",
       "<style scoped>\n",
       "    .dataframe tbody tr th:only-of-type {\n",
       "        vertical-align: middle;\n",
       "    }\n",
       "\n",
       "    .dataframe tbody tr th {\n",
       "        vertical-align: top;\n",
       "    }\n",
       "\n",
       "    .dataframe thead th {\n",
       "        text-align: right;\n",
       "    }\n",
       "</style>\n",
       "<table border=\"1\" class=\"dataframe\">\n",
       "  <thead>\n",
       "    <tr style=\"text-align: right;\">\n",
       "      <th></th>\n",
       "      <th>Store ID</th>\n",
       "      <th>City</th>\n",
       "      <th>State</th>\n",
       "      <th>Sales Region</th>\n",
       "      <th>New Expansion</th>\n",
       "      <th>Marketing Spend</th>\n",
       "      <th>Revenue</th>\n",
       "    </tr>\n",
       "  </thead>\n",
       "  <tbody>\n",
       "    <tr>\n",
       "      <th>0</th>\n",
       "      <td>1</td>\n",
       "      <td>Peoria</td>\n",
       "      <td>Arizona</td>\n",
       "      <td>Region 2</td>\n",
       "      <td>Old</td>\n",
       "      <td>2601</td>\n",
       "      <td>48610</td>\n",
       "    </tr>\n",
       "    <tr>\n",
       "      <th>1</th>\n",
       "      <td>2</td>\n",
       "      <td>Midland</td>\n",
       "      <td>Texas</td>\n",
       "      <td>Region 2</td>\n",
       "      <td>Old</td>\n",
       "      <td>2727</td>\n",
       "      <td>45689</td>\n",
       "    </tr>\n",
       "    <tr>\n",
       "      <th>2</th>\n",
       "      <td>3</td>\n",
       "      <td>Spokane</td>\n",
       "      <td>Washington</td>\n",
       "      <td>Region 2</td>\n",
       "      <td>Old</td>\n",
       "      <td>2768</td>\n",
       "      <td>49554</td>\n",
       "    </tr>\n",
       "    <tr>\n",
       "      <th>3</th>\n",
       "      <td>4</td>\n",
       "      <td>Denton</td>\n",
       "      <td>Texas</td>\n",
       "      <td>Region 2</td>\n",
       "      <td>Old</td>\n",
       "      <td>2759</td>\n",
       "      <td>38284</td>\n",
       "    </tr>\n",
       "    <tr>\n",
       "      <th>4</th>\n",
       "      <td>5</td>\n",
       "      <td>Overland Park</td>\n",
       "      <td>Kansas</td>\n",
       "      <td>Region 2</td>\n",
       "      <td>Old</td>\n",
       "      <td>2869</td>\n",
       "      <td>59887</td>\n",
       "    </tr>\n",
       "    <tr>\n",
       "      <th>...</th>\n",
       "      <td>...</td>\n",
       "      <td>...</td>\n",
       "      <td>...</td>\n",
       "      <td>...</td>\n",
       "      <td>...</td>\n",
       "      <td>...</td>\n",
       "      <td>...</td>\n",
       "    </tr>\n",
       "    <tr>\n",
       "      <th>145</th>\n",
       "      <td>146</td>\n",
       "      <td>Paterson</td>\n",
       "      <td>New Jersey</td>\n",
       "      <td>Region 1</td>\n",
       "      <td>New</td>\n",
       "      <td>2251</td>\n",
       "      <td>34603</td>\n",
       "    </tr>\n",
       "    <tr>\n",
       "      <th>146</th>\n",
       "      <td>147</td>\n",
       "      <td>Brownsville</td>\n",
       "      <td>Texas</td>\n",
       "      <td>Region 2</td>\n",
       "      <td>New</td>\n",
       "      <td>3675</td>\n",
       "      <td>63148</td>\n",
       "    </tr>\n",
       "    <tr>\n",
       "      <th>147</th>\n",
       "      <td>148</td>\n",
       "      <td>Rockford</td>\n",
       "      <td>Illinois</td>\n",
       "      <td>Region 1</td>\n",
       "      <td>New</td>\n",
       "      <td>2648</td>\n",
       "      <td>43377</td>\n",
       "    </tr>\n",
       "    <tr>\n",
       "      <th>148</th>\n",
       "      <td>149</td>\n",
       "      <td>College Station</td>\n",
       "      <td>Texas</td>\n",
       "      <td>Region 2</td>\n",
       "      <td>New</td>\n",
       "      <td>2994</td>\n",
       "      <td>22457</td>\n",
       "    </tr>\n",
       "    <tr>\n",
       "      <th>149</th>\n",
       "      <td>150</td>\n",
       "      <td>Thousand Oaks</td>\n",
       "      <td>California</td>\n",
       "      <td>Region 2</td>\n",
       "      <td>New</td>\n",
       "      <td>2431</td>\n",
       "      <td>40141</td>\n",
       "    </tr>\n",
       "  </tbody>\n",
       "</table>\n",
       "<p>150 rows × 7 columns</p>\n",
       "</div>"
      ],
      "text/plain": [
       "     Store ID             City       State Sales Region New Expansion  \\\n",
       "0           1           Peoria     Arizona     Region 2           Old   \n",
       "1           2          Midland       Texas     Region 2           Old   \n",
       "2           3          Spokane  Washington     Region 2           Old   \n",
       "3           4           Denton       Texas     Region 2           Old   \n",
       "4           5    Overland Park      Kansas     Region 2           Old   \n",
       "..        ...              ...         ...          ...           ...   \n",
       "145       146         Paterson  New Jersey     Region 1           New   \n",
       "146       147      Brownsville       Texas     Region 2           New   \n",
       "147       148         Rockford    Illinois     Region 1           New   \n",
       "148       149  College Station       Texas     Region 2           New   \n",
       "149       150    Thousand Oaks  California     Region 2           New   \n",
       "\n",
       "     Marketing Spend  Revenue  \n",
       "0               2601    48610  \n",
       "1               2727    45689  \n",
       "2               2768    49554  \n",
       "3               2759    38284  \n",
       "4               2869    59887  \n",
       "..               ...      ...  \n",
       "145             2251    34603  \n",
       "146             3675    63148  \n",
       "147             2648    43377  \n",
       "148             2994    22457  \n",
       "149             2431    40141  \n",
       "\n",
       "[150 rows x 7 columns]"
      ]
     },
     "execution_count": 4,
     "metadata": {},
     "output_type": "execute_result"
    }
   ],
   "source": [
    "startups = pd.read_excel(r'C:\\Users\\Asus\\Desktop\\Portfolio Projects\\Python Projects\\startup-expansion.xlsx')\n",
    "startups"
   ]
  },
  {
   "cell_type": "code",
   "execution_count": 5,
   "id": "a77bc1ad",
   "metadata": {
    "id": "a77bc1ad",
    "outputId": "865cc74d-eaeb-471f-ebcd-1f7b2c0cb0c8"
   },
   "outputs": [
    {
     "name": "stdout",
     "output_type": "stream",
     "text": [
      "<class 'pandas.core.frame.DataFrame'>\n",
      "RangeIndex: 150 entries, 0 to 149\n",
      "Data columns (total 7 columns):\n",
      " #   Column           Non-Null Count  Dtype \n",
      "---  ------           --------------  ----- \n",
      " 0   Store ID         150 non-null    int64 \n",
      " 1   City             150 non-null    object\n",
      " 2   State            150 non-null    object\n",
      " 3   Sales Region     150 non-null    object\n",
      " 4   New Expansion    150 non-null    object\n",
      " 5   Marketing Spend  150 non-null    int64 \n",
      " 6   Revenue          150 non-null    int64 \n",
      "dtypes: int64(3), object(4)\n",
      "memory usage: 8.3+ KB\n"
     ]
    }
   ],
   "source": [
    "startups.info()"
   ]
  },
  {
   "cell_type": "code",
   "execution_count": 6,
   "id": "53ade754",
   "metadata": {
    "id": "53ade754",
    "outputId": "4dd3a904-c07c-488d-9be5-f3096331d97f"
   },
   "outputs": [
    {
     "data": {
      "text/html": [
       "<div>\n",
       "<style scoped>\n",
       "    .dataframe tbody tr th:only-of-type {\n",
       "        vertical-align: middle;\n",
       "    }\n",
       "\n",
       "    .dataframe tbody tr th {\n",
       "        vertical-align: top;\n",
       "    }\n",
       "\n",
       "    .dataframe thead th {\n",
       "        text-align: right;\n",
       "    }\n",
       "</style>\n",
       "<table border=\"1\" class=\"dataframe\">\n",
       "  <thead>\n",
       "    <tr style=\"text-align: right;\">\n",
       "      <th></th>\n",
       "      <th>Marketing Spend</th>\n",
       "      <th>Revenue</th>\n",
       "    </tr>\n",
       "  </thead>\n",
       "  <tbody>\n",
       "    <tr>\n",
       "      <th>count</th>\n",
       "      <td>150.00</td>\n",
       "      <td>150.00</td>\n",
       "    </tr>\n",
       "    <tr>\n",
       "      <th>mean</th>\n",
       "      <td>2893.15</td>\n",
       "      <td>39301.43</td>\n",
       "    </tr>\n",
       "    <tr>\n",
       "      <th>std</th>\n",
       "      <td>367.86</td>\n",
       "      <td>15465.75</td>\n",
       "    </tr>\n",
       "    <tr>\n",
       "      <th>min</th>\n",
       "      <td>1811.00</td>\n",
       "      <td>15562.00</td>\n",
       "    </tr>\n",
       "    <tr>\n",
       "      <th>25%</th>\n",
       "      <td>2662.25</td>\n",
       "      <td>21113.50</td>\n",
       "    </tr>\n",
       "    <tr>\n",
       "      <th>50%</th>\n",
       "      <td>2898.00</td>\n",
       "      <td>42993.00</td>\n",
       "    </tr>\n",
       "    <tr>\n",
       "      <th>75%</th>\n",
       "      <td>3111.50</td>\n",
       "      <td>51145.50</td>\n",
       "    </tr>\n",
       "    <tr>\n",
       "      <th>max</th>\n",
       "      <td>3984.00</td>\n",
       "      <td>68828.00</td>\n",
       "    </tr>\n",
       "  </tbody>\n",
       "</table>\n",
       "</div>"
      ],
      "text/plain": [
       "       Marketing Spend   Revenue\n",
       "count           150.00    150.00\n",
       "mean           2893.15  39301.43\n",
       "std             367.86  15465.75\n",
       "min            1811.00  15562.00\n",
       "25%            2662.25  21113.50\n",
       "50%            2898.00  42993.00\n",
       "75%            3111.50  51145.50\n",
       "max            3984.00  68828.00"
      ]
     },
     "execution_count": 6,
     "metadata": {},
     "output_type": "execute_result"
    }
   ],
   "source": [
    "startups[['Marketing Spend','Revenue']].describe().round(2)"
   ]
  },
  {
   "cell_type": "code",
   "execution_count": null,
   "id": "f239a7b6",
   "metadata": {
    "id": "f239a7b6"
   },
   "outputs": [],
   "source": []
  },
  {
   "cell_type": "markdown",
   "id": "e8b37496",
   "metadata": {
    "id": "e8b37496"
   },
   "source": [
    "## Preprocessing Data"
   ]
  },
  {
   "cell_type": "code",
   "execution_count": 7,
   "id": "4137c44f",
   "metadata": {
    "id": "4137c44f",
    "outputId": "2961d798-96f2-4099-9aae-4744cee260ba"
   },
   "outputs": [
    {
     "data": {
      "text/plain": [
       "149"
      ]
     },
     "execution_count": 7,
     "metadata": {},
     "output_type": "execute_result"
    }
   ],
   "source": [
    "startups['City'].nunique()"
   ]
  },
  {
   "cell_type": "code",
   "execution_count": 8,
   "id": "7c6b24cd",
   "metadata": {
    "id": "7c6b24cd",
    "outputId": "b8118d46-079d-4e91-bec3-72636639fa6c"
   },
   "outputs": [
    {
     "data": {
      "text/plain": [
       "array(['Peoria', 'Midland', 'Spokane', 'Denton', 'Overland Park',\n",
       "       'Yonkers', 'Birmingham', 'Antioch', 'Worcester', 'Rochester',\n",
       "       'Rialto', 'Santa Maria', 'Las Cruces', 'Jackson', 'Hillsboro',\n",
       "       'Temecula', 'Tallahassee', 'Fontana', 'Kent', 'Broken Arrow',\n",
       "       'Concord', 'Modesto', 'Montgomery', 'Burbank', 'Elk Grove',\n",
       "       'Port St. Lucie', 'Elizabeth', 'Salt Lake City', 'Waco', 'Edison',\n",
       "       'Boulder', 'Grand Rapids', 'Tyler', 'Charleston', 'Huntsville',\n",
       "       'Pearland', 'Inglewood', 'Oxnard', 'Miramar', 'Cape Coral',\n",
       "       'Syracuse', 'Newport News', 'Lewisville', 'Carrollton',\n",
       "       'San Bernardino', 'Pasadena', 'Roseville', 'Murrieta',\n",
       "       'San Angelo', 'Olathe', 'Akron', 'Fullerton', 'Manchester',\n",
       "       'Everett', 'West Covina', 'Thornton', 'Hampton', 'Waterbury',\n",
       "       'Ventura', 'Davenport', 'Columbia', 'Simi Valley', 'Richmond',\n",
       "       'Little Rock', 'El Cajon', 'Santa Clara', 'Oceanside', 'Davie',\n",
       "       'Lakeland', 'Centennial', 'Lowell', 'Ontario', 'Palm Bay',\n",
       "       'Murfreesboro', 'Vancouver', 'Topeka', 'West Valley City',\n",
       "       'New Haven', 'Pueblo', 'Costa Mesa', 'Garden Grove',\n",
       "       'Fort Lauderdale', 'North Charleston', 'Cambridge', 'Greeley',\n",
       "       'Gresham', 'Amarillo', 'High Point', 'Vista', 'Tacoma', 'Mesquite',\n",
       "       'Augusta', 'Elgin', 'Aurora', 'Gainesville', 'Dayton',\n",
       "       'Wichita Falls', 'Naperville', 'Clovis', 'Billings', 'Surprise',\n",
       "       'Coral Springs', 'Visalia', 'Killeen', 'Orange', 'Richardson',\n",
       "       'South Bend', 'Fayetteville', 'Sioux Falls', 'Grand Prairie',\n",
       "       'Stamford', 'West Palm Beach', 'Knoxville', 'Renton', 'McAllen',\n",
       "       'Woodbridge', 'Shreveport', 'Bellevue', 'Huntington Beach',\n",
       "       'Santa Clarita', 'Sterling Heights', 'Mobile', 'Bridgeport',\n",
       "       'Daly City', 'Sandy Springs', 'Cedar Rapids', 'Columbus',\n",
       "       'Moreno Valley', 'Pompano Beach', 'Savannah', 'West Jordan',\n",
       "       'Des Moines', 'Green Bay', 'Santa Rosa', 'San Mateo', 'Warren',\n",
       "       'Norwalk', 'Lafayette', 'Providence', 'Chattanooga', 'Tempe',\n",
       "       'Joliet', 'Rancho Cucamonga', 'Glendale', 'Paterson',\n",
       "       'Brownsville', 'Rockford', 'College Station', 'Thousand Oaks'],\n",
       "      dtype=object)"
      ]
     },
     "execution_count": 8,
     "metadata": {},
     "output_type": "execute_result"
    }
   ],
   "source": [
    "startups['City'].unique()"
   ]
  },
  {
   "cell_type": "code",
   "execution_count": 9,
   "id": "7aca7f26",
   "metadata": {
    "id": "7aca7f26",
    "outputId": "7090b1fa-258f-4f78-f378-df302580b7e1"
   },
   "outputs": [
    {
     "data": {
      "text/plain": [
       "Rochester        2\n",
       "Killeen          1\n",
       "Wichita Falls    1\n",
       "Naperville       1\n",
       "Clovis           1\n",
       "                ..\n",
       "Akron            1\n",
       "Fullerton        1\n",
       "Manchester       1\n",
       "Everett          1\n",
       "Thousand Oaks    1\n",
       "Name: City, Length: 149, dtype: int64"
      ]
     },
     "execution_count": 9,
     "metadata": {},
     "output_type": "execute_result"
    }
   ],
   "source": [
    "startups['City'].value_counts()"
   ]
  },
  {
   "cell_type": "code",
   "execution_count": 10,
   "id": "9c43ab18",
   "metadata": {
    "id": "9c43ab18",
    "outputId": "c65c1d53-9628-4bb6-f420-1d4a026720e7"
   },
   "outputs": [
    {
     "data": {
      "text/plain": [
       "array(['Arizona', 'Texas', 'Washington', 'Kansas', 'New York', 'Alabama',\n",
       "       'California', 'Massachusetts', 'New Mexico', 'Mississippi',\n",
       "       'Oregon', 'Florida', 'Oklahoma', 'New Jersey', 'Utah', 'Colorado',\n",
       "       'Michigan', 'South Carolina', 'Virginia', 'Ohio', 'New Hampshire',\n",
       "       'Connecticut', 'Iowa', 'Arkansas', 'Tennessee', 'North Carolina',\n",
       "       'Georgia', 'Illinois', 'Montana', 'Indiana', 'South Dakota',\n",
       "       'Louisiana', 'Minnesota', 'Wisconsin', 'Rhode Island'],\n",
       "      dtype=object)"
      ]
     },
     "execution_count": 10,
     "metadata": {},
     "output_type": "execute_result"
    }
   ],
   "source": [
    "startups['State'].unique()"
   ]
  },
  {
   "cell_type": "code",
   "execution_count": 11,
   "id": "67e28037",
   "metadata": {
    "id": "67e28037",
    "outputId": "b204c852-6ab7-437c-eb42-fff9125a5ef8"
   },
   "outputs": [
    {
     "data": {
      "text/plain": [
       "35"
      ]
     },
     "execution_count": 11,
     "metadata": {},
     "output_type": "execute_result"
    }
   ],
   "source": [
    "startups['State'].nunique()"
   ]
  },
  {
   "cell_type": "code",
   "execution_count": 12,
   "id": "a85f11fd",
   "metadata": {
    "id": "a85f11fd",
    "outputId": "7c035b39-1b62-45f9-cf30-a09096100736"
   },
   "outputs": [
    {
     "data": {
      "text/plain": [
       "California        40\n",
       "Texas             17\n",
       "Florida           12\n",
       "Washington         7\n",
       "Colorado           5\n",
       "Illinois           5\n",
       "Georgia            4\n",
       "Alabama            4\n",
       "Connecticut        4\n",
       "New Jersey         4\n",
       "Arizona            3\n",
       "Tennessee          3\n",
       "Iowa               3\n",
       "Michigan           3\n",
       "South Carolina     3\n",
       "Utah               3\n",
       "Massachusetts      3\n",
       "Kansas             3\n",
       "New York           3\n",
       "Louisiana          2\n",
       "North Carolina     2\n",
       "Ohio               2\n",
       "Virginia           2\n",
       "Oregon             2\n",
       "Mississippi        1\n",
       "New Mexico         1\n",
       "Arkansas           1\n",
       "New Hampshire      1\n",
       "Oklahoma           1\n",
       "Montana            1\n",
       "Indiana            1\n",
       "South Dakota       1\n",
       "Minnesota          1\n",
       "Wisconsin          1\n",
       "Rhode Island       1\n",
       "Name: State, dtype: int64"
      ]
     },
     "execution_count": 12,
     "metadata": {},
     "output_type": "execute_result"
    }
   ],
   "source": [
    "startups['State'].value_counts()"
   ]
  },
  {
   "cell_type": "code",
   "execution_count": 13,
   "id": "1aad3911",
   "metadata": {
    "id": "1aad3911",
    "outputId": "64b6533c-3cd6-49a5-d929-e6fd13a45476"
   },
   "outputs": [
    {
     "data": {
      "text/plain": [
       "array(['Region 2', 'Region 1'], dtype=object)"
      ]
     },
     "execution_count": 13,
     "metadata": {},
     "output_type": "execute_result"
    }
   ],
   "source": [
    "startups['Sales Region'].unique()"
   ]
  },
  {
   "cell_type": "code",
   "execution_count": 14,
   "id": "54386135",
   "metadata": {
    "id": "54386135",
    "outputId": "a0ed9353-6022-4e34-cfe0-7ff17fe6d36a"
   },
   "outputs": [
    {
     "data": {
      "text/plain": [
       "Region 2    86\n",
       "Region 1    64\n",
       "Name: Sales Region, dtype: int64"
      ]
     },
     "execution_count": 14,
     "metadata": {},
     "output_type": "execute_result"
    }
   ],
   "source": [
    "startups['Sales Region'].value_counts()"
   ]
  },
  {
   "cell_type": "code",
   "execution_count": 15,
   "id": "36dcc4e6",
   "metadata": {
    "id": "36dcc4e6",
    "outputId": "48588187-2877-40a9-85fd-c5d977bb89d5"
   },
   "outputs": [
    {
     "data": {
      "text/plain": [
       "array(['Old', 'New'], dtype=object)"
      ]
     },
     "execution_count": 15,
     "metadata": {},
     "output_type": "execute_result"
    }
   ],
   "source": [
    "startups['New Expansion'].unique()"
   ]
  },
  {
   "cell_type": "code",
   "execution_count": 16,
   "id": "dc903715",
   "metadata": {
    "id": "dc903715",
    "outputId": "978e5fdf-967c-4271-d8ed-ed8751e30d76"
   },
   "outputs": [
    {
     "data": {
      "text/plain": [
       "Old    140\n",
       "New     10\n",
       "Name: New Expansion, dtype: int64"
      ]
     },
     "execution_count": 16,
     "metadata": {},
     "output_type": "execute_result"
    }
   ],
   "source": [
    "startups['New Expansion'].value_counts()"
   ]
  },
  {
   "cell_type": "code",
   "execution_count": 17,
   "id": "3824674a",
   "metadata": {
    "id": "3824674a",
    "outputId": "7ff37ada-220f-4085-9bdf-6bd1f8bb5f76"
   },
   "outputs": [
    {
     "data": {
      "text/plain": [
       "Store ID           0\n",
       "City               0\n",
       "State              0\n",
       "Sales Region       0\n",
       "New Expansion      0\n",
       "Marketing Spend    0\n",
       "Revenue            0\n",
       "dtype: int64"
      ]
     },
     "execution_count": 17,
     "metadata": {},
     "output_type": "execute_result"
    }
   ],
   "source": [
    "startups.isna().sum() "
   ]
  },
  {
   "cell_type": "code",
   "execution_count": 18,
   "id": "a8c598d8",
   "metadata": {
    "id": "a8c598d8",
    "outputId": "dda94cab-2db2-4c09-cfa4-26e99bf69902"
   },
   "outputs": [
    {
     "data": {
      "text/plain": [
       "0"
      ]
     },
     "execution_count": 18,
     "metadata": {},
     "output_type": "execute_result"
    }
   ],
   "source": [
    "startups.duplicated().sum()"
   ]
  },
  {
   "cell_type": "code",
   "execution_count": 19,
   "id": "3f0067f9",
   "metadata": {
    "id": "3f0067f9",
    "outputId": "32ed817b-a965-4df4-f597-ef5a8a2b8cfd"
   },
   "outputs": [
    {
     "data": {
      "text/plain": [
       "150"
      ]
     },
     "execution_count": 19,
     "metadata": {},
     "output_type": "execute_result"
    }
   ],
   "source": [
    "len(startups['Store ID'].value_counts())"
   ]
  },
  {
   "cell_type": "code",
   "execution_count": null,
   "id": "e608398e",
   "metadata": {
    "id": "e608398e"
   },
   "outputs": [],
   "source": []
  },
  {
   "cell_type": "markdown",
   "id": "9047467b",
   "metadata": {
    "id": "9047467b"
   },
   "source": [
    "## Exploring & Analysing Data"
   ]
  },
  {
   "cell_type": "code",
   "execution_count": 20,
   "id": "e805f9c7",
   "metadata": {
    "id": "e805f9c7",
    "outputId": "7e1e0be8-69bc-449c-c4e4-56e95fed8a52"
   },
   "outputs": [
    {
     "data": {
      "text/html": [
       "<div>\n",
       "<style scoped>\n",
       "    .dataframe tbody tr th:only-of-type {\n",
       "        vertical-align: middle;\n",
       "    }\n",
       "\n",
       "    .dataframe tbody tr th {\n",
       "        vertical-align: top;\n",
       "    }\n",
       "\n",
       "    .dataframe thead th {\n",
       "        text-align: right;\n",
       "    }\n",
       "</style>\n",
       "<table border=\"1\" class=\"dataframe\">\n",
       "  <thead>\n",
       "    <tr style=\"text-align: right;\">\n",
       "      <th></th>\n",
       "      <th>Store ID</th>\n",
       "      <th>City</th>\n",
       "      <th>State</th>\n",
       "      <th>Sales Region</th>\n",
       "      <th>New Expansion</th>\n",
       "      <th>Marketing Spend</th>\n",
       "      <th>Revenue</th>\n",
       "    </tr>\n",
       "  </thead>\n",
       "  <tbody>\n",
       "    <tr>\n",
       "      <th>125</th>\n",
       "      <td>126</td>\n",
       "      <td>Sandy Springs</td>\n",
       "      <td>Georgia</td>\n",
       "      <td>Region 1</td>\n",
       "      <td>Old</td>\n",
       "      <td>2759</td>\n",
       "      <td>18942</td>\n",
       "    </tr>\n",
       "    <tr>\n",
       "      <th>53</th>\n",
       "      <td>54</td>\n",
       "      <td>Everett</td>\n",
       "      <td>Washington</td>\n",
       "      <td>Region 2</td>\n",
       "      <td>Old</td>\n",
       "      <td>3129</td>\n",
       "      <td>15562</td>\n",
       "    </tr>\n",
       "    <tr>\n",
       "      <th>135</th>\n",
       "      <td>136</td>\n",
       "      <td>San Mateo</td>\n",
       "      <td>California</td>\n",
       "      <td>Region 2</td>\n",
       "      <td>Old</td>\n",
       "      <td>1811</td>\n",
       "      <td>19426</td>\n",
       "    </tr>\n",
       "    <tr>\n",
       "      <th>80</th>\n",
       "      <td>81</td>\n",
       "      <td>Garden Grove</td>\n",
       "      <td>California</td>\n",
       "      <td>Region 2</td>\n",
       "      <td>Old</td>\n",
       "      <td>3285</td>\n",
       "      <td>57530</td>\n",
       "    </tr>\n",
       "    <tr>\n",
       "      <th>103</th>\n",
       "      <td>104</td>\n",
       "      <td>Killeen</td>\n",
       "      <td>Texas</td>\n",
       "      <td>Region 2</td>\n",
       "      <td>Old</td>\n",
       "      <td>2962</td>\n",
       "      <td>43773</td>\n",
       "    </tr>\n",
       "    <tr>\n",
       "      <th>98</th>\n",
       "      <td>99</td>\n",
       "      <td>Clovis</td>\n",
       "      <td>California</td>\n",
       "      <td>Region 2</td>\n",
       "      <td>Old</td>\n",
       "      <td>2901</td>\n",
       "      <td>20669</td>\n",
       "    </tr>\n",
       "    <tr>\n",
       "      <th>25</th>\n",
       "      <td>26</td>\n",
       "      <td>Port St. Lucie</td>\n",
       "      <td>Florida</td>\n",
       "      <td>Region 1</td>\n",
       "      <td>Old</td>\n",
       "      <td>2420</td>\n",
       "      <td>55790</td>\n",
       "    </tr>\n",
       "    <tr>\n",
       "      <th>95</th>\n",
       "      <td>96</td>\n",
       "      <td>Dayton</td>\n",
       "      <td>Ohio</td>\n",
       "      <td>Region 1</td>\n",
       "      <td>Old</td>\n",
       "      <td>2805</td>\n",
       "      <td>42026</td>\n",
       "    </tr>\n",
       "    <tr>\n",
       "      <th>58</th>\n",
       "      <td>59</td>\n",
       "      <td>Ventura</td>\n",
       "      <td>California</td>\n",
       "      <td>Region 2</td>\n",
       "      <td>Old</td>\n",
       "      <td>3228</td>\n",
       "      <td>16652</td>\n",
       "    </tr>\n",
       "    <tr>\n",
       "      <th>46</th>\n",
       "      <td>47</td>\n",
       "      <td>Roseville</td>\n",
       "      <td>California</td>\n",
       "      <td>Region 2</td>\n",
       "      <td>Old</td>\n",
       "      <td>3220</td>\n",
       "      <td>43397</td>\n",
       "    </tr>\n",
       "  </tbody>\n",
       "</table>\n",
       "</div>"
      ],
      "text/plain": [
       "     Store ID            City       State Sales Region New Expansion  \\\n",
       "125       126   Sandy Springs     Georgia     Region 1           Old   \n",
       "53         54         Everett  Washington     Region 2           Old   \n",
       "135       136       San Mateo  California     Region 2           Old   \n",
       "80         81    Garden Grove  California     Region 2           Old   \n",
       "103       104         Killeen       Texas     Region 2           Old   \n",
       "98         99          Clovis  California     Region 2           Old   \n",
       "25         26  Port St. Lucie     Florida     Region 1           Old   \n",
       "95         96          Dayton        Ohio     Region 1           Old   \n",
       "58         59         Ventura  California     Region 2           Old   \n",
       "46         47       Roseville  California     Region 2           Old   \n",
       "\n",
       "     Marketing Spend  Revenue  \n",
       "125             2759    18942  \n",
       "53              3129    15562  \n",
       "135             1811    19426  \n",
       "80              3285    57530  \n",
       "103             2962    43773  \n",
       "98              2901    20669  \n",
       "25              2420    55790  \n",
       "95              2805    42026  \n",
       "58              3228    16652  \n",
       "46              3220    43397  "
      ]
     },
     "execution_count": 20,
     "metadata": {},
     "output_type": "execute_result"
    }
   ],
   "source": [
    "startups.sample(10)"
   ]
  },
  {
   "cell_type": "code",
   "execution_count": 21,
   "id": "176c0a4c",
   "metadata": {
    "id": "176c0a4c",
    "outputId": "85a860df-5839-41ef-f248-20afeae150cb"
   },
   "outputs": [
    {
     "data": {
      "text/plain": [
       "<AxesSubplot:>"
      ]
     },
     "execution_count": 21,
     "metadata": {},
     "output_type": "execute_result"
    },
    {
     "data": {
      "image/png": "[encoded data removed]",
      "text/plain": [
       "<Figure size 432x288 with 1 Axes>"
      ]
     },
     "metadata": {
      "needs_background": "light"
     },
     "output_type": "display_data"
    }
   ],
   "source": [
    "startups['Sales Region'].value_counts().plot.bar()"
   ]
  },
  {
   "cell_type": "code",
   "execution_count": 22,
   "id": "2a4f2436",
   "metadata": {
    "id": "2a4f2436",
    "outputId": "9cc9537a-82bd-430f-b154-82792a0fd0fb"
   },
   "outputs": [
    {
     "data": {
      "text/plain": [
       "<pandas.core.groupby.generic.DataFrameGroupBy object at 0x0000015DB34089A0>"
      ]
     },
     "execution_count": 22,
     "metadata": {},
     "output_type": "execute_result"
    }
   ],
   "source": [
    "startups.groupby('New Expansion')"
   ]
  },
  {
   "cell_type": "code",
   "execution_count": 34,
   "id": "ef5a51bc",
   "metadata": {},
   "outputs": [
    {
     "data": {
      "text/plain": [
       "{'New': [140, 141, 142, 143, 144, 145, 146, 147, 148, 149], 'Old': [0, 1, 2, 3, 4, 5, 6, 7, 8, 9, 10, 11, 12, 13, 14, 15, 16, 17, 18, 19, 20, 21, 22, 23, 24, 25, 26, 27, 28, 29, 30, 31, 32, 33, 34, 35, 36, 37, 38, 39, 40, 41, 42, 43, 44, 45, 46, 47, 48, 49, 50, 51, 52, 53, 54, 55, 56, 57, 58, 59, 60, 61, 62, 63, 64, 65, 66, 67, 68, 69, 70, 71, 72, 73, 74, 75, 76, 77, 78, 79, 80, 81, 82, 83, 84, 85, 86, 87, 88, 89, 90, 91, 92, 93, 94, 95, 96, 97, 98, 99, ...]}"
      ]
     },
     "execution_count": 34,
     "metadata": {},
     "output_type": "execute_result"
    }
   ],
   "source": [
    "startups.groupby('New Expansion').groups"
   ]
  },
  {
   "cell_type": "code",
   "execution_count": 48,
   "id": "b8643e72",
   "metadata": {},
   "outputs": [
    {
     "data": {
      "text/plain": [
       "State          City          \n",
       "Arkansas       Little Rock       68828\n",
       "Michigan       Grand Rapids      65475\n",
       "New York       Rochester         64906\n",
       "California     Oxnard            64302\n",
       "               Fontana           63027\n",
       "Rhode Island   Providence        62337\n",
       "Alabama        Birmingham        60338\n",
       "Kansas         Overland Park     59887\n",
       "California     San Bernardino    59870\n",
       "Massachusetts  Worcester         59840\n",
       "Name: Revenue, dtype: int64"
      ]
     },
     "execution_count": 48,
     "metadata": {},
     "output_type": "execute_result"
    }
   ],
   "source": [
    "startups[startups['New Expansion'] == 'Old'].groupby(['State','City']).max()['Revenue'].nlargest(10)"
   ]
  },
  {
   "cell_type": "code",
   "execution_count": 49,
   "id": "19e2fd11",
   "metadata": {},
   "outputs": [
    {
     "data": {
      "text/plain": [
       "State       City            \n",
       "Texas       Brownsville         63148\n",
       "Tennessee   Chattanooga         55357\n",
       "California  Rancho Cucamonga    52366\n",
       "            Glendale            49376\n",
       "Arizona     Tempe               48954\n",
       "Illinois    Joliet              48315\n",
       "            Rockford            43377\n",
       "California  Thousand Oaks       40141\n",
       "New Jersey  Paterson            34603\n",
       "Texas       College Station     22457\n",
       "Name: Revenue, dtype: int64"
      ]
     },
     "execution_count": 49,
     "metadata": {},
     "output_type": "execute_result"
    }
   ],
   "source": [
    "startups[startups['New Expansion'] == 'New'].groupby(['State','City']).max()['Revenue'].nlargest(10)"
   ]
  },
  {
   "cell_type": "code",
   "execution_count": 23,
   "id": "753da317",
   "metadata": {
    "id": "753da317",
    "outputId": "690523f1-1f4a-492a-ce22-b5a36ec04bd9"
   },
   "outputs": [
    {
     "data": {
      "text/plain": [
       "State\n",
       "California     1362468\n",
       "Texas           554964\n",
       "Florida         479023\n",
       "Washington      298013\n",
       "Alabama         221025\n",
       "New York        160046\n",
       "Connecticut     158511\n",
       "Georgia         157656\n",
       "Colorado        156495\n",
       "Michigan        147759\n",
       "Name: Revenue, dtype: int64"
      ]
     },
     "execution_count": 23,
     "metadata": {},
     "output_type": "execute_result"
    }
   ],
   "source": [
    "startups[startups['New Expansion'] == 'Old'].groupby(['State']).sum()['Revenue'].nlargest(10)"
   ]
  },
  {
   "cell_type": "code",
   "execution_count": 24,
   "id": "2426d737",
   "metadata": {
    "id": "2426d737",
    "outputId": "5b7b1ae8-7421-48d1-ec95-2d524ffec92e"
   },
   "outputs": [
    {
     "data": {
      "text/plain": [
       "State\n",
       "California    141883\n",
       "Illinois       91692\n",
       "Texas          85605\n",
       "Tennessee      55357\n",
       "Arizona        48954\n",
       "New Jersey     34603\n",
       "Name: Revenue, dtype: int64"
      ]
     },
     "execution_count": 24,
     "metadata": {},
     "output_type": "execute_result"
    }
   ],
   "source": [
    "startups[startups['New Expansion'] == 'New'].groupby(['State']).sum()['Revenue'].nlargest(10)"
   ]
  },
  {
   "cell_type": "code",
   "execution_count": 26,
   "id": "b303ff0d",
   "metadata": {
    "id": "b303ff0d"
   },
   "outputs": [],
   "source": [
    "startups['Profit'] = startups['Revenue'] - startups['Marketing Spend']"
   ]
  },
  {
   "cell_type": "code",
   "execution_count": 27,
   "id": "6f72fd5f",
   "metadata": {
    "id": "6f72fd5f",
    "outputId": "e42fbc8d-35ea-4dae-c0b0-8e2abe6ef18d"
   },
   "outputs": [
    {
     "data": {
      "text/html": [
       "<div>\n",
       "<style scoped>\n",
       "    .dataframe tbody tr th:only-of-type {\n",
       "        vertical-align: middle;\n",
       "    }\n",
       "\n",
       "    .dataframe tbody tr th {\n",
       "        vertical-align: top;\n",
       "    }\n",
       "\n",
       "    .dataframe thead th {\n",
       "        text-align: right;\n",
       "    }\n",
       "</style>\n",
       "<table border=\"1\" class=\"dataframe\">\n",
       "  <thead>\n",
       "    <tr style=\"text-align: right;\">\n",
       "      <th></th>\n",
       "      <th>Store ID</th>\n",
       "      <th>City</th>\n",
       "      <th>State</th>\n",
       "      <th>Sales Region</th>\n",
       "      <th>New Expansion</th>\n",
       "      <th>Marketing Spend</th>\n",
       "      <th>Revenue</th>\n",
       "      <th>Profit</th>\n",
       "    </tr>\n",
       "  </thead>\n",
       "  <tbody>\n",
       "    <tr>\n",
       "      <th>0</th>\n",
       "      <td>1</td>\n",
       "      <td>Peoria</td>\n",
       "      <td>Arizona</td>\n",
       "      <td>Region 2</td>\n",
       "      <td>Old</td>\n",
       "      <td>2601</td>\n",
       "      <td>48610</td>\n",
       "      <td>46009</td>\n",
       "    </tr>\n",
       "    <tr>\n",
       "      <th>1</th>\n",
       "      <td>2</td>\n",
       "      <td>Midland</td>\n",
       "      <td>Texas</td>\n",
       "      <td>Region 2</td>\n",
       "      <td>Old</td>\n",
       "      <td>2727</td>\n",
       "      <td>45689</td>\n",
       "      <td>42962</td>\n",
       "    </tr>\n",
       "    <tr>\n",
       "      <th>2</th>\n",
       "      <td>3</td>\n",
       "      <td>Spokane</td>\n",
       "      <td>Washington</td>\n",
       "      <td>Region 2</td>\n",
       "      <td>Old</td>\n",
       "      <td>2768</td>\n",
       "      <td>49554</td>\n",
       "      <td>46786</td>\n",
       "    </tr>\n",
       "    <tr>\n",
       "      <th>3</th>\n",
       "      <td>4</td>\n",
       "      <td>Denton</td>\n",
       "      <td>Texas</td>\n",
       "      <td>Region 2</td>\n",
       "      <td>Old</td>\n",
       "      <td>2759</td>\n",
       "      <td>38284</td>\n",
       "      <td>35525</td>\n",
       "    </tr>\n",
       "    <tr>\n",
       "      <th>4</th>\n",
       "      <td>5</td>\n",
       "      <td>Overland Park</td>\n",
       "      <td>Kansas</td>\n",
       "      <td>Region 2</td>\n",
       "      <td>Old</td>\n",
       "      <td>2869</td>\n",
       "      <td>59887</td>\n",
       "      <td>57018</td>\n",
       "    </tr>\n",
       "    <tr>\n",
       "      <th>...</th>\n",
       "      <td>...</td>\n",
       "      <td>...</td>\n",
       "      <td>...</td>\n",
       "      <td>...</td>\n",
       "      <td>...</td>\n",
       "      <td>...</td>\n",
       "      <td>...</td>\n",
       "      <td>...</td>\n",
       "    </tr>\n",
       "    <tr>\n",
       "      <th>145</th>\n",
       "      <td>146</td>\n",
       "      <td>Paterson</td>\n",
       "      <td>New Jersey</td>\n",
       "      <td>Region 1</td>\n",
       "      <td>New</td>\n",
       "      <td>2251</td>\n",
       "      <td>34603</td>\n",
       "      <td>32352</td>\n",
       "    </tr>\n",
       "    <tr>\n",
       "      <th>146</th>\n",
       "      <td>147</td>\n",
       "      <td>Brownsville</td>\n",
       "      <td>Texas</td>\n",
       "      <td>Region 2</td>\n",
       "      <td>New</td>\n",
       "      <td>3675</td>\n",
       "      <td>63148</td>\n",
       "      <td>59473</td>\n",
       "    </tr>\n",
       "    <tr>\n",
       "      <th>147</th>\n",
       "      <td>148</td>\n",
       "      <td>Rockford</td>\n",
       "      <td>Illinois</td>\n",
       "      <td>Region 1</td>\n",
       "      <td>New</td>\n",
       "      <td>2648</td>\n",
       "      <td>43377</td>\n",
       "      <td>40729</td>\n",
       "    </tr>\n",
       "    <tr>\n",
       "      <th>148</th>\n",
       "      <td>149</td>\n",
       "      <td>College Station</td>\n",
       "      <td>Texas</td>\n",
       "      <td>Region 2</td>\n",
       "      <td>New</td>\n",
       "      <td>2994</td>\n",
       "      <td>22457</td>\n",
       "      <td>19463</td>\n",
       "    </tr>\n",
       "    <tr>\n",
       "      <th>149</th>\n",
       "      <td>150</td>\n",
       "      <td>Thousand Oaks</td>\n",
       "      <td>California</td>\n",
       "      <td>Region 2</td>\n",
       "      <td>New</td>\n",
       "      <td>2431</td>\n",
       "      <td>40141</td>\n",
       "      <td>37710</td>\n",
       "    </tr>\n",
       "  </tbody>\n",
       "</table>\n",
       "<p>150 rows × 8 columns</p>\n",
       "</div>"
      ],
      "text/plain": [
       "     Store ID             City       State Sales Region New Expansion  \\\n",
       "0           1           Peoria     Arizona     Region 2           Old   \n",
       "1           2          Midland       Texas     Region 2           Old   \n",
       "2           3          Spokane  Washington     Region 2           Old   \n",
       "3           4           Denton       Texas     Region 2           Old   \n",
       "4           5    Overland Park      Kansas     Region 2           Old   \n",
       "..        ...              ...         ...          ...           ...   \n",
       "145       146         Paterson  New Jersey     Region 1           New   \n",
       "146       147      Brownsville       Texas     Region 2           New   \n",
       "147       148         Rockford    Illinois     Region 1           New   \n",
       "148       149  College Station       Texas     Region 2           New   \n",
       "149       150    Thousand Oaks  California     Region 2           New   \n",
       "\n",
       "     Marketing Spend  Revenue  Profit  \n",
       "0               2601    48610   46009  \n",
       "1               2727    45689   42962  \n",
       "2               2768    49554   46786  \n",
       "3               2759    38284   35525  \n",
       "4               2869    59887   57018  \n",
       "..               ...      ...     ...  \n",
       "145             2251    34603   32352  \n",
       "146             3675    63148   59473  \n",
       "147             2648    43377   40729  \n",
       "148             2994    22457   19463  \n",
       "149             2431    40141   37710  \n",
       "\n",
       "[150 rows x 8 columns]"
      ]
     },
     "execution_count": 27,
     "metadata": {},
     "output_type": "execute_result"
    }
   ],
   "source": [
    "startups"
   ]
  },
  {
   "cell_type": "code",
   "execution_count": 28,
   "id": "6b247068",
   "metadata": {
    "id": "6b247068"
   },
   "outputs": [],
   "source": [
    "startups['ROMS'] = round((startups['Profit'] / startups['Marketing Spend']) * 100, 2)"
   ]
  },
  {
   "cell_type": "code",
   "execution_count": 29,
   "id": "407cffc0",
   "metadata": {
    "id": "407cffc0"
   },
   "outputs": [],
   "source": [
    "startups['ROMS%'] = startups['ROMS'] / 100"
   ]
  },
  {
   "cell_type": "code",
   "execution_count": 30,
   "id": "a2ed7600",
   "metadata": {
    "id": "a2ed7600",
    "outputId": "698a4805-4e61-4cef-a9ba-986d43b4d208",
    "scrolled": true
   },
   "outputs": [
    {
     "data": {
      "text/html": [
       "<div>\n",
       "<style scoped>\n",
       "    .dataframe tbody tr th:only-of-type {\n",
       "        vertical-align: middle;\n",
       "    }\n",
       "\n",
       "    .dataframe tbody tr th {\n",
       "        vertical-align: top;\n",
       "    }\n",
       "\n",
       "    .dataframe thead th {\n",
       "        text-align: right;\n",
       "    }\n",
       "</style>\n",
       "<table border=\"1\" class=\"dataframe\">\n",
       "  <thead>\n",
       "    <tr style=\"text-align: right;\">\n",
       "      <th></th>\n",
       "      <th>Store ID</th>\n",
       "      <th>City</th>\n",
       "      <th>State</th>\n",
       "      <th>Sales Region</th>\n",
       "      <th>New Expansion</th>\n",
       "      <th>Marketing Spend</th>\n",
       "      <th>Revenue</th>\n",
       "      <th>Profit</th>\n",
       "      <th>ROMS</th>\n",
       "      <th>ROMS%</th>\n",
       "    </tr>\n",
       "  </thead>\n",
       "  <tbody>\n",
       "    <tr>\n",
       "      <th>0</th>\n",
       "      <td>1</td>\n",
       "      <td>Peoria</td>\n",
       "      <td>Arizona</td>\n",
       "      <td>Region 2</td>\n",
       "      <td>Old</td>\n",
       "      <td>2601</td>\n",
       "      <td>48610</td>\n",
       "      <td>46009</td>\n",
       "      <td>1768.90</td>\n",
       "      <td>17.6890</td>\n",
       "    </tr>\n",
       "    <tr>\n",
       "      <th>1</th>\n",
       "      <td>2</td>\n",
       "      <td>Midland</td>\n",
       "      <td>Texas</td>\n",
       "      <td>Region 2</td>\n",
       "      <td>Old</td>\n",
       "      <td>2727</td>\n",
       "      <td>45689</td>\n",
       "      <td>42962</td>\n",
       "      <td>1575.43</td>\n",
       "      <td>15.7543</td>\n",
       "    </tr>\n",
       "    <tr>\n",
       "      <th>2</th>\n",
       "      <td>3</td>\n",
       "      <td>Spokane</td>\n",
       "      <td>Washington</td>\n",
       "      <td>Region 2</td>\n",
       "      <td>Old</td>\n",
       "      <td>2768</td>\n",
       "      <td>49554</td>\n",
       "      <td>46786</td>\n",
       "      <td>1690.25</td>\n",
       "      <td>16.9025</td>\n",
       "    </tr>\n",
       "    <tr>\n",
       "      <th>3</th>\n",
       "      <td>4</td>\n",
       "      <td>Denton</td>\n",
       "      <td>Texas</td>\n",
       "      <td>Region 2</td>\n",
       "      <td>Old</td>\n",
       "      <td>2759</td>\n",
       "      <td>38284</td>\n",
       "      <td>35525</td>\n",
       "      <td>1287.60</td>\n",
       "      <td>12.8760</td>\n",
       "    </tr>\n",
       "    <tr>\n",
       "      <th>4</th>\n",
       "      <td>5</td>\n",
       "      <td>Overland Park</td>\n",
       "      <td>Kansas</td>\n",
       "      <td>Region 2</td>\n",
       "      <td>Old</td>\n",
       "      <td>2869</td>\n",
       "      <td>59887</td>\n",
       "      <td>57018</td>\n",
       "      <td>1987.38</td>\n",
       "      <td>19.8738</td>\n",
       "    </tr>\n",
       "    <tr>\n",
       "      <th>...</th>\n",
       "      <td>...</td>\n",
       "      <td>...</td>\n",
       "      <td>...</td>\n",
       "      <td>...</td>\n",
       "      <td>...</td>\n",
       "      <td>...</td>\n",
       "      <td>...</td>\n",
       "      <td>...</td>\n",
       "      <td>...</td>\n",
       "      <td>...</td>\n",
       "    </tr>\n",
       "    <tr>\n",
       "      <th>145</th>\n",
       "      <td>146</td>\n",
       "      <td>Paterson</td>\n",
       "      <td>New Jersey</td>\n",
       "      <td>Region 1</td>\n",
       "      <td>New</td>\n",
       "      <td>2251</td>\n",
       "      <td>34603</td>\n",
       "      <td>32352</td>\n",
       "      <td>1437.23</td>\n",
       "      <td>14.3723</td>\n",
       "    </tr>\n",
       "    <tr>\n",
       "      <th>146</th>\n",
       "      <td>147</td>\n",
       "      <td>Brownsville</td>\n",
       "      <td>Texas</td>\n",
       "      <td>Region 2</td>\n",
       "      <td>New</td>\n",
       "      <td>3675</td>\n",
       "      <td>63148</td>\n",
       "      <td>59473</td>\n",
       "      <td>1618.31</td>\n",
       "      <td>16.1831</td>\n",
       "    </tr>\n",
       "    <tr>\n",
       "      <th>147</th>\n",
       "      <td>148</td>\n",
       "      <td>Rockford</td>\n",
       "      <td>Illinois</td>\n",
       "      <td>Region 1</td>\n",
       "      <td>New</td>\n",
       "      <td>2648</td>\n",
       "      <td>43377</td>\n",
       "      <td>40729</td>\n",
       "      <td>1538.10</td>\n",
       "      <td>15.3810</td>\n",
       "    </tr>\n",
       "    <tr>\n",
       "      <th>148</th>\n",
       "      <td>149</td>\n",
       "      <td>College Station</td>\n",
       "      <td>Texas</td>\n",
       "      <td>Region 2</td>\n",
       "      <td>New</td>\n",
       "      <td>2994</td>\n",
       "      <td>22457</td>\n",
       "      <td>19463</td>\n",
       "      <td>650.07</td>\n",
       "      <td>6.5007</td>\n",
       "    </tr>\n",
       "    <tr>\n",
       "      <th>149</th>\n",
       "      <td>150</td>\n",
       "      <td>Thousand Oaks</td>\n",
       "      <td>California</td>\n",
       "      <td>Region 2</td>\n",
       "      <td>New</td>\n",
       "      <td>2431</td>\n",
       "      <td>40141</td>\n",
       "      <td>37710</td>\n",
       "      <td>1551.21</td>\n",
       "      <td>15.5121</td>\n",
       "    </tr>\n",
       "  </tbody>\n",
       "</table>\n",
       "<p>150 rows × 10 columns</p>\n",
       "</div>"
      ],
      "text/plain": [
       "     Store ID             City       State Sales Region New Expansion  \\\n",
       "0           1           Peoria     Arizona     Region 2           Old   \n",
       "1           2          Midland       Texas     Region 2           Old   \n",
       "2           3          Spokane  Washington     Region 2           Old   \n",
       "3           4           Denton       Texas     Region 2           Old   \n",
       "4           5    Overland Park      Kansas     Region 2           Old   \n",
       "..        ...              ...         ...          ...           ...   \n",
       "145       146         Paterson  New Jersey     Region 1           New   \n",
       "146       147      Brownsville       Texas     Region 2           New   \n",
       "147       148         Rockford    Illinois     Region 1           New   \n",
       "148       149  College Station       Texas     Region 2           New   \n",
       "149       150    Thousand Oaks  California     Region 2           New   \n",
       "\n",
       "     Marketing Spend  Revenue  Profit     ROMS    ROMS%  \n",
       "0               2601    48610   46009  1768.90  17.6890  \n",
       "1               2727    45689   42962  1575.43  15.7543  \n",
       "2               2768    49554   46786  1690.25  16.9025  \n",
       "3               2759    38284   35525  1287.60  12.8760  \n",
       "4               2869    59887   57018  1987.38  19.8738  \n",
       "..               ...      ...     ...      ...      ...  \n",
       "145             2251    34603   32352  1437.23  14.3723  \n",
       "146             3675    63148   59473  1618.31  16.1831  \n",
       "147             2648    43377   40729  1538.10  15.3810  \n",
       "148             2994    22457   19463   650.07   6.5007  \n",
       "149             2431    40141   37710  1551.21  15.5121  \n",
       "\n",
       "[150 rows x 10 columns]"
      ]
     },
     "execution_count": 30,
     "metadata": {},
     "output_type": "execute_result"
    }
   ],
   "source": [
    "startups"
   ]
  },
  {
   "cell_type": "code",
   "execution_count": 31,
   "id": "93d0a75d",
   "metadata": {
    "id": "93d0a75d"
   },
   "outputs": [],
   "source": [
    "startups.to_csv('startups-expansion-modified.csv')"
   ]
  },
  {
   "cell_type": "markdown",
   "id": "ab6d2bc2",
   "metadata": {},
   "source": [
    "### We move to Power BI to generate a suitable dashboard after this preparation"
   ]
  },
  {
   "cell_type": "code",
   "execution_count": null,
   "id": "19204856",
   "metadata": {},
   "outputs": [],
   "source": []
  }
 ],
 "metadata": {
  "colab": {
   "provenance": []
  },
  "kernelspec": {
   "display_name": "Python 3 (ipykernel)",
   "language": "python",
   "name": "python3"
  },
  "language_info": {
   "codemirror_mode": {
    "name": "ipython",
    "version": 3
   },
   "file_extension": ".py",
   "mimetype": "text/x-python",
   "name": "python",
   "nbconvert_exporter": "python",
   "pygments_lexer": "ipython3",
   "version": "3.8.0"
  }
 },
 "nbformat": 4,
 "nbformat_minor": 5
}
